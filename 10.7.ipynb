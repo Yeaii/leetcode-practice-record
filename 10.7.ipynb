{
 "cells": [
  {
   "cell_type": "code",
   "execution_count": null,
   "metadata": {
    "vscode": {
     "languageId": "cpp"
    }
   },
   "outputs": [],
   "source": [
    "class Solution {\n",
    "public:\n",
    "    int majorityElement(vector<int>& nums) {\n",
    "        int slow=2;fast=2;\n",
    "        while(fast<nums.size()){\n",
    "            if(nums[slow-2]!=nums[fast]){\n",
    "                nums[slow]=nums[fast];\n",
    "                slow++;\n",
    "                fast++;\n",
    "            }\n",
    "            else{\n",
    "                fast++;\n",
    "            }\n",
    "        }\n",
    "        return slow;\n",
    "       \n",
    "    }\n",
    "};"
   ]
  }
 ],
 "metadata": {
  "language_info": {
   "name": "python"
  },
  "orig_nbformat": 4
 },
 "nbformat": 4,
 "nbformat_minor": 2
}
