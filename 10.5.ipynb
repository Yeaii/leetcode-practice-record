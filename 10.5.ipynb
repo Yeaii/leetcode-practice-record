{
 "cells": [
  {
   "cell_type": "markdown",
   "metadata": {},
   "source": [
    "#### 移除元素\n",
    "##### 方法一：双指针\n",
    "思路及算法\n",
    "1. 由于题目要求删除数组中等于val的元素，因此输出数组的长度一定小于等于输入数组的长度，我们可以把输出的数组直接写在输入数组上。可以使用双指针：右指针right指向当前将要处理的元素，左指针left指向下一个将要赋值的位置。\n",
    "2. 如果右指针指向的元素不等于val，它一定是输出数组的一个元素，我们就将右指针指向的元素复制到左指针位置，然后将左右指针同时右移；\n",
    "3. 如果右指针指向的元素等于val，它不能在输出数组里，此时左指针不动，右指针右移一位。\n",
    "4. 整个过程保持不变的性质是：区间 [0,left) 中的元素都不等于 val。当左右指针遍历完输入数组以后，left 的值就是输出数组的长度。\n",
    "5. 这样的算法在最坏情况下（输入数组中没有元素等于 val），左右指针各遍历了数组一次。\n"
   ]
  },
  {
   "cell_type": "code",
   "execution_count": null,
   "metadata": {
    "vscode": {
     "languageId": "cpp"
    }
   },
   "outputs": [],
   "source": [
    "class Solution1 {\n",
    "public:\n",
    "    int removeElement(vector<int>& nums, int val) {\n",
    "          int n = nums.size();\n",
    "        int left = 0;\n",
    "        for (int right = 0; right < n; right++) {\n",
    "            if (nums[right] != val) {\n",
    "                nums[left] = nums[right];\n",
    "                left++;\n",
    "            }\n",
    "        }\n",
    "        return left;\n",
    "    }\n",
    "};"
   ]
  },
  {
   "cell_type": "markdown",
   "metadata": {},
   "source": [
    "复杂度分析\n",
    "\n",
    "时间复杂度：O(n) ，其中 n 为序列的长度。我们只需要遍历该序列至多 **两** 次。\n",
    "\n",
    "空间复杂度：O(1) 。我们只需要常数的空间保存若干变量。\n"
   ]
  },
  {
   "cell_type": "markdown",
   "metadata": {},
   "source": [
    "##### 方法2：双指针优化\n",
    "思路及算法\n",
    "1. 如果左指针 left指向的元素等于 val，此时将右指针 right 指向的元素复制到左指针 left 的位置，然后右指针 right左移一位。如果赋值过来的元素恰好也等于 val，可以继续把右指针 right 指向的元素的值赋值过来（左指针 left 指向的等于 val 的元素的位置继续被覆盖），直到左指针指向的元素的值不等于 val 为止。\n",
    "2. 当左指针 left 和右指针 right 重合的时候，左右指针遍历完数组中所有的元素。\n",
    "3. 这样的方法两个指针在最坏的情况下合起来只遍历了数组一次。与方法一不同的是，方法二避免了需要保留的元素的重复赋值操作。\n",
    "\n"
   ]
  },
  {
   "cell_type": "code",
   "execution_count": null,
   "metadata": {
    "vscode": {
     "languageId": "cpp"
    }
   },
   "outputs": [],
   "source": [
    "class Solution {\n",
    "public:\n",
    "    int removeElement(vector<int>& nums, int val) {\n",
    "        int left = 0, right = nums.size();\n",
    "        while (left < right) {\n",
    "            if (nums[left] == val) {\n",
    "                nums[left] = nums[right - 1];\n",
    "                right--;\n",
    "            } else {\n",
    "                left++;\n",
    "            }\n",
    "        }\n",
    "        return left;\n",
    "    }\n",
    "};"
   ]
  },
  {
   "cell_type": "markdown",
   "metadata": {},
   "source": [
    "复杂度分析\n",
    "\n",
    "时间复杂度：O(n) ，其中 n 为序列的长度。我们只需要遍历该序列至多 **一** 次。\n",
    "\n",
    "空间复杂度：O(1) 。我们只需要常数的空间保存若干变量。"
   ]
  }
 ],
 "metadata": {
  "language_info": {
   "name": "python"
  },
  "orig_nbformat": 4
 },
 "nbformat": 4,
 "nbformat_minor": 2
}
