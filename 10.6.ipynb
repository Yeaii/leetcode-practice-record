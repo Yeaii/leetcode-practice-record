{
 "cells": [
  {
   "cell_type": "markdown",
   "metadata": {},
   "source": [
    "#### 删除有序数组中的重复项\n",
    "算法选择分析： 当需要遍历数组或者字符串并从中找出满足条件的子集或者子串的时候，我们最容易想到的也是最简单暴力的方法就是使用嵌套的循环来实现，但是通常这样子的程序时间复杂度会太高甚至导致程序运行超出时间限制，此时我可以考虑尝试使用双指针法来对算法进行优化。双指针法，顾名思义，就是需要定于两个“指针”（不同于C语言中的指针）。我们最常用的就是对撞指针（相反方向）和快慢指针（相同方向） 两种方法。\n",
    "\n",
    "对撞指针，即两个指针从两侧开始向中间遍历有序数组，将这两个指针分别定义为左指针left和右指针right，我们常用的二分查找也是利用了这钟算法思想，常见的还有两数之和、反转数组等问题的求解；\n",
    "\n",
    "快慢指针，即两个指针从同一侧开始遍历数组，将这两个指针分别定义为快指针fast和慢指针slow，两个指针以不同的策略移动来解决问题，常用于查找或者删除相同元素、判定链表中是否含有环、寻找链表的中点等相关问题的求解。\n",
    "\n",
    "\n",
    "首先，我们知道数组nums是有序的，而且我们只能在原地修改nums数组，不能创建新的数组空间来存储删除重复出现的元素后的结果。我们需要一边遍历数组查找相同元素，一边在对比发现不同元素时修改数组元素，那么我们可以考虑双指针法的快慢指针了，定义slow和fast作为指针，初始化时指针slow指向数组的起始位置（nums[0]），指针fast指向指针slow的后一个位置（nums[1]）。随着指针fast不断向后移动，将指针fast指向的元素与指针slow指向的元素进行比较：\n",
    "\n",
    "如果nums[fast] ≠ nums[slow]，那么nums[slow + 1] = nums[fast]；\n",
    "\n",
    "如果nums[fast] = nums[slow]，那么指针fast继续向后查找\n",
    "\n",
    "![](1631552114-iGjdpt-快慢指针.png)"
   ]
  },
  {
   "cell_type": "code",
   "execution_count": null,
   "metadata": {
    "vscode": {
     "languageId": "cpp"
    }
   },
   "outputs": [],
   "source": [
    "class Solution {\n",
    "public:\n",
    "    int removeDuplicates(vector<int>& nums) {\n",
    "        int length = nums.size();\n",
    "        if (length == 0) return 0;\n",
    "        int slow = 0, fast = 1;\n",
    "        while (fast < length) {\n",
    "            if (nums[fast] != nums[slow]) {\n",
    "                nums[++slow] = nums[fast];\n",
    "            }\n",
    "            fast++;\n",
    "        }\n",
    "        return slow + 1;\n",
    "    }\n",
    "};"
   ]
  }
 ],
 "metadata": {
  "language_info": {
   "name": "python"
  },
  "orig_nbformat": 4
 },
 "nbformat": 4,
 "nbformat_minor": 2
}
